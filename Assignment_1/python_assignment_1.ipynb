{
 "cells": [
  {
   "cell_type": "code",
   "execution_count": 34,
   "id": "9c7a438d",
   "metadata": {},
   "outputs": [],
   "source": [
    "import numpy as np\n",
    "import matplotlib.pyplot as plt"
   ]
  },
  {
   "cell_type": "code",
   "execution_count": 35,
   "id": "3ddaa04a",
   "metadata": {},
   "outputs": [
    {
     "name": "stdout",
     "output_type": "stream",
     "text": [
      "A=[2 4]\n",
      "B=[3 2]\n",
      "C=[8 4]\n",
      "D=[7 6]\n",
      "AB = [-1  2] and DC = [-1  2]\n",
      "AC = [-5 -2] and BC = [-5 -2]\n",
      "Opposite sides AB‖CD and AD‖BC \n",
      "Thus, ABCD is a parallelogram.\n"
     ]
    }
   ],
   "source": [
    "# Q6. Prove that the points (2, 4), (3, 2), (8, 4) and (7, 6) are the vertices of a parallelogram.\n",
    "\n",
    "A = np.array([2,4])\n",
    "B = np.array([3,2])\n",
    "C = np.array([8,4])\n",
    "D = np.array([7,6])\n",
    "print(f'A={A}\\nB={B}\\nC={C}\\nD={D}')\n",
    "\n",
    "# Now we need to check if the opposite sides are parallel by checking if A−B=k1(D−C) and A−D=k2(B−C)\n",
    "AB = A - B\n",
    "DC = D - C\n",
    "print(f'AB = {AB} and DC = {DC}')\n",
    "\n",
    "AD = A - D\n",
    "BC = B - C\n",
    "print(f'AC = {AD} and BC = {BC}')\n",
    "\n",
    "if np.all((AB == DC) & (AD == BC)) :\n",
    "    print('Opposite sides AB‖CD and AD‖BC \\nThus, ABCD is a parallelogram.')\n",
    "else:\n",
    "    print('Here Opposite sides  are not parallel  \\n Thus, ABCD does not form a parallelogram.')"
   ]
  },
  {
   "cell_type": "code",
   "execution_count": 36,
   "id": "61be0ede",
   "metadata": {},
   "outputs": [],
   "source": [
    "#Generate line points\n",
    "def line_gen(A,B):\n",
    "    len =10\n",
    "    dim = A.shape[0]\n",
    "    x_AB = np.zeros((dim,len))\n",
    "    lam_1 = np.linspace(0,1,len)\n",
    "    for i in range(len):\n",
    "        temp1 = A + lam_1[i]*(B-A)\n",
    "        x_AB[:,i]= temp1.T\n",
    "    return x_AB"
   ]
  },
  {
   "cell_type": "code",
   "execution_count": 37,
   "id": "0e88ae4a",
   "metadata": {},
   "outputs": [],
   "source": [
    "# Generating all lines\n",
    "\n",
    "x_AB = line_gen(A, B)\n",
    "x_BC = line_gen(B, C)\n",
    "x_CD = line_gen(C, D)\n",
    "x_DA = line_gen(D, A)"
   ]
  },
  {
   "cell_type": "code",
   "execution_count": 38,
   "id": "70142ecd",
   "metadata": {},
   "outputs": [
    {
     "data": {
      "image/png": "[encoded data removed]",
      "text/plain": [
       "<Figure size 432x288 with 1 Axes>"
      ]
     },
     "metadata": {
      "needs_background": "light"
     },
     "output_type": "display_data"
    }
   ],
   "source": [
    "plt.plot(x_AB[0,:],x_AB[1,:],label='$AB$')\n",
    "plt.plot(x_BC[0,:],x_BC[1,:],label='$BC$')\n",
    "plt.plot(x_CD[0,:],x_CD[1,:],label='$CD$')\n",
    "plt.plot(x_DA[0,:],x_DA[1,:],label='$DA$')\n",
    "\n",
    "plt.legend()\n",
    "plt.annotate(\"A\", (2,4))\n",
    "plt.annotate(\"B\", (3,2))\n",
    "plt.annotate(\"C\", (8,4))\n",
    "plt.annotate(\"D\", (7,6))\n",
    "\n",
    "plt.ylabel('$y-axis$')\n",
    "plt.xlabel('$x-axis$')\n",
    "plt.grid() \n",
    "plt.savefig('parallelogram.jpg', dpi=200)\n",
    "plt.show()"
   ]
  },
  {
   "cell_type": "code",
   "execution_count": null,
   "id": "24f12eef",
   "metadata": {},
   "outputs": [],
   "source": []
  }
 ],
 "metadata": {
  "kernelspec": {
   "display_name": "Python 3",
   "language": "python",
   "name": "python3"
  },
  "language_info": {
   "codemirror_mode": {
    "name": "ipython",
    "version": 3
   },
   "file_extension": ".py",
   "mimetype": "text/x-python",
   "name": "python",
   "nbconvert_exporter": "python",
   "pygments_lexer": "ipython3",
   "version": "3.8.8"
  }
 },
 "nbformat": 4,
 "nbformat_minor": 5
}
